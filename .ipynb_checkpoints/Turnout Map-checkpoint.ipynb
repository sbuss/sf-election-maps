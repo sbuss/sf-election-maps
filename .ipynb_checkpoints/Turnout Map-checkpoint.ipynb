{
 "cells": [
  {
   "cell_type": "code",
   "execution_count": 1,
   "metadata": {},
   "outputs": [],
   "source": [
    "import ballot_image\n",
    "import pandas as pd"
   ]
  },
  {
   "cell_type": "markdown",
   "metadata": {},
   "source": [
    "# June 2018 D8 Supervisor"
   ]
  },
  {
   "cell_type": "code",
   "execution_count": 2,
   "metadata": {},
   "outputs": [
    {
     "name": "stdout",
     "output_type": "stream",
     "text": [
      "Round 1\n",
      "669 undervotes\n",
      "621 overvotes\n",
      "143 undervotes\n",
      "12 overvotes\n",
      "1 overvotes\n",
      "Round 2\n",
      "Round 3\n",
      "64 undervotes\n",
      "4 overvotes\n",
      "54 undervotes\n",
      "Round 4\n",
      "84 undervotes\n",
      "3 overvotes\n",
      "70 undervotes\n",
      "Round 5\n",
      "1421 undervotes\n",
      "8 overvotes\n",
      "1311 undervotes\n",
      "Round 6\n",
      "1342 undervotes\n",
      "17 overvotes\n",
      "977 undervotes\n",
      "1 overvotes\n",
      "Round 7\n",
      "3062 undervotes\n",
      "26 overvotes\n",
      "2002 undervotes\n",
      "Round 8\n",
      "2818 undervotes\n",
      "53 overvotes\n",
      "1873 undervotes\n",
      "2 overvotes\n",
      "Round 1\n",
      "                MICHELLE BRAVO     900         0.36%\n",
      "                  LONDON BREED   92121        36.70%\n",
      "                     MARK LENO   61416        24.47%\n",
      "                      JANE KIM   60738        24.20%\n",
      "              RICHIE GREENBERG    7051         2.81%\n",
      "                 ANGELA ALIOTO   17552         6.99%\n",
      "               AMY FARAH WEISS    1675         0.67%\n",
      "                ELLEN LEE ZHOU    9576         3.81%\n",
      "    WRITE-IN ANTOINE R. ROGERS       3         0.00%\n",
      "\n",
      "Round 2\n",
      "                MICHELLE BRAVO     900         0.36%\n",
      "                  LONDON BREED   92124     +3 36.70%\n",
      "                     MARK LENO   61416        24.47%\n",
      "                      JANE KIM   60738        24.20%\n",
      "              RICHIE GREENBERG    7051         2.81%\n",
      "                 ANGELA ALIOTO   17552         6.99%\n",
      "               AMY FARAH WEISS    1675         0.67%\n",
      "                ELLEN LEE ZHOU    9576         3.81%\n",
      "\n",
      "Round 3\n",
      "                  LONDON BREED   92243   +119 36.77%\n",
      "                     MARK LENO   61533   +117 24.53%\n",
      "                      JANE KIM   60829    +91 24.25%\n",
      "              RICHIE GREENBERG    7128    +77  2.84%\n",
      "                 ANGELA ALIOTO   17737   +185  7.07%\n",
      "               AMY FARAH WEISS    1735    +60  0.69%\n",
      "                ELLEN LEE ZHOU    9687   +111  3.86%\n",
      "\n",
      "Round 4\n",
      "                  LONDON BREED   92442   +199 36.87%\n",
      "                     MARK LENO   61881   +348 24.68%\n",
      "                      JANE KIM   61422   +593 24.50%\n",
      "              RICHIE GREENBERG    7242   +114  2.89%\n",
      "                 ANGELA ALIOTO   17929   +192  7.15%\n",
      "                ELLEN LEE ZHOU    9829   +142  3.92%\n",
      "\n",
      "Round 5\n",
      "                  LONDON BREED   93605  +1163 37.66%\n",
      "                     MARK LENO   62861   +980 25.29%\n",
      "                      JANE KIM   61843   +421 24.88%\n",
      "                 ANGELA ALIOTO   19626  +1697  7.90%\n",
      "                ELLEN LEE ZHOU   10637   +808  4.28%\n",
      "\n",
      "Round 6\n",
      "                  LONDON BREED   96392  +2787 39.22%\n",
      "                     MARK LENO   64128  +1267 26.09%\n",
      "                      JANE KIM   63261  +1418 25.74%\n",
      "                 ANGELA ALIOTO   21981  +2355  8.94%\n",
      "\n",
      "Round 7\n",
      "                  LONDON BREED  102767  +6375 43.27%\n",
      "                     MARK LENO   68707  +4579 28.93%\n",
      "                      JANE KIM   66043  +2782 27.81%\n",
      "\n",
      "Round 8\n",
      "                  LONDON BREED  115977 +13210 50.55%\n",
      "                     MARK LENO  113431 +44724 49.45%\n",
      "\n"
     ]
    }
   ],
   "source": [
    "lookup_201806 = ballot_image.parse_master_lookup('./results/2018-06/20180627_masterlookup.txt')\n",
    "votes_201806 = ballot_image.parse_ballot_image('./results/2018-06/20180627_ballotimage.txt.gz')\n",
    "d8_201806 = ballot_image.get_supervisor_votes(8, lookup_201806, votes_201806)\n",
    "vv = ballot_image.run_rcv_for_contest('Mayor', lookup_201806, votes_201806)\n",
    "ballot_image.pretty_print_rcv_rounds('Mayor', lookup_201806, vv)"
   ]
  }
 ],
 "metadata": {
  "kernelspec": {
   "display_name": "Python 2",
   "language": "python",
   "name": "python2"
  },
  "language_info": {
   "codemirror_mode": {
    "name": "ipython",
    "version": 2
   },
   "file_extension": ".py",
   "mimetype": "text/x-python",
   "name": "python",
   "nbconvert_exporter": "python",
   "pygments_lexer": "ipython2",
   "version": "2.7.15rc1"
  }
 },
 "nbformat": 4,
 "nbformat_minor": 2
}
